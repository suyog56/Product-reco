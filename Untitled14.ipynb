{
  "nbformat": 4,
  "nbformat_minor": 0,
  "metadata": {
    "colab": {
      "name": "Untitled14.ipynb",
      "provenance": []
    },
    "kernelspec": {
      "name": "python3",
      "display_name": "Python 3"
    },
    "language_info": {
      "name": "python"
    }
  },
  "cells": [
    {
      "cell_type": "code",
      "execution_count": 1,
      "metadata": {
        "id": "n6wZTPrzytFP"
      },
      "outputs": [],
      "source": [
        "import pandas as pd\n",
        "import numpy as np\n",
        "from google.colab import files"
      ]
    },
    {
      "cell_type": "code",
      "source": [
        "up = files.upload()\n",
        "data = pd.read_csv(\"Products.csv\")"
      ],
      "metadata": {
        "colab": {
          "resources": {
            "http://localhost:8080/nbextensions/google.colab/files.js": {
              "data": "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",
              "ok": true,
              "headers": [
                [
                  "content-type",
                  "application/javascript"
                ]
              ],
              "status": 200,
              "status_text": "OK"
            }
          },
          "base_uri": "https://localhost:8080/",
          "height": 73
        },
        "id": "B0YE-tYl4bwN",
        "outputId": "ca9b8d2a-e5e6-4fd9-d0b7-5b6e7656cda1"
      },
      "execution_count": 27,
      "outputs": [
        {
          "output_type": "display_data",
          "data": {
            "text/plain": [
              "<IPython.core.display.HTML object>"
            ],
            "text/html": [
              "\n",
              "     <input type=\"file\" id=\"files-b7ecba51-a873-455a-8107-8d93e7f7953d\" name=\"files[]\" multiple disabled\n",
              "        style=\"border:none\" />\n",
              "     <output id=\"result-b7ecba51-a873-455a-8107-8d93e7f7953d\">\n",
              "      Upload widget is only available when the cell has been executed in the\n",
              "      current browser session. Please rerun this cell to enable.\n",
              "      </output>\n",
              "      <script src=\"/nbextensions/google.colab/files.js\"></script> "
            ]
          },
          "metadata": {}
        },
        {
          "output_type": "stream",
          "name": "stdout",
          "text": [
            "Saving Products.csv to Products (1).csv\n"
          ]
        }
      ]
    },
    {
      "cell_type": "code",
      "source": [
        "data.drop(\"Unnamed: 0\", axis=1, inplace=True)"
      ],
      "metadata": {
        "id": "b-62wy8L4oej"
      },
      "execution_count": 29,
      "outputs": []
    },
    {
      "cell_type": "code",
      "source": [
        "df = data.pivot_table(index=\"Facilities\", columns=\"Email\", values=\"Rating\").fillna(0)\n",
        "df"
      ],
      "metadata": {
        "colab": {
          "base_uri": "https://localhost:8080/",
          "height": 693
        },
        "id": "RJffbh1l40jF",
        "outputId": "9c4db130-2041-434e-8705-47d7cea153fd"
      },
      "execution_count": 31,
      "outputs": [
        {
          "output_type": "execute_result",
          "data": {
            "text/plain": [
              "Email                               hebex0@abincol.com  hebex1000@abincol.com  \\\n",
              "Facilities                                                                      \n",
              " Gas                                               0.0                    0.0   \n",
              " Investments                                       0.0                    0.0   \n",
              " Mobile Recharge                                   0.0                    0.0   \n",
              " PAY                                               0.0                    0.0   \n",
              " Select Frist Privilegs                            0.0                    0.0   \n",
              "...                                                ...                    ...   \n",
              "Wealth Select Account                              0.0                    0.0   \n",
              "Withdrawal                                         0.0                    0.0   \n",
              "home Loan                                          0.0                    0.0   \n",
              "pradhan mantri Jeevan Jyoti Yojana                 0.0                    0.0   \n",
              "pradhan mantri Suraksha BimaYojana                 0.0                    0.0   \n",
              "\n",
              "Email                               hebex1001@abincol.com  \\\n",
              "Facilities                                                  \n",
              " Gas                                                  0.0   \n",
              " Investments                                          0.0   \n",
              " Mobile Recharge                                      0.0   \n",
              " PAY                                                  0.0   \n",
              " Select Frist Privilegs                               0.0   \n",
              "...                                                   ...   \n",
              "Wealth Select Account                                 0.0   \n",
              "Withdrawal                                            0.0   \n",
              "home Loan                                             0.0   \n",
              "pradhan mantri Jeevan Jyoti Yojana                    0.0   \n",
              "pradhan mantri Suraksha BimaYojana                    0.0   \n",
              "\n",
              "Email                               hebex1002@abincol.com  \\\n",
              "Facilities                                                  \n",
              " Gas                                                  0.0   \n",
              " Investments                                          0.0   \n",
              " Mobile Recharge                                      0.0   \n",
              " PAY                                                  0.0   \n",
              " Select Frist Privilegs                               0.0   \n",
              "...                                                   ...   \n",
              "Wealth Select Account                                 0.0   \n",
              "Withdrawal                                            0.0   \n",
              "home Loan                                             0.0   \n",
              "pradhan mantri Jeevan Jyoti Yojana                    0.0   \n",
              "pradhan mantri Suraksha BimaYojana                    0.0   \n",
              "\n",
              "Email                               hebex1003@abincol.com  \\\n",
              "Facilities                                                  \n",
              " Gas                                                  0.0   \n",
              " Investments                                          0.0   \n",
              " Mobile Recharge                                      0.0   \n",
              " PAY                                                  0.0   \n",
              " Select Frist Privilegs                               0.0   \n",
              "...                                                   ...   \n",
              "Wealth Select Account                                 0.0   \n",
              "Withdrawal                                            3.0   \n",
              "home Loan                                             0.0   \n",
              "pradhan mantri Jeevan Jyoti Yojana                    0.0   \n",
              "pradhan mantri Suraksha BimaYojana                    0.0   \n",
              "\n",
              "Email                               hebex1004@abincol.com  \\\n",
              "Facilities                                                  \n",
              " Gas                                                  0.0   \n",
              " Investments                                          0.0   \n",
              " Mobile Recharge                                      0.0   \n",
              " PAY                                                  0.0   \n",
              " Select Frist Privilegs                               0.0   \n",
              "...                                                   ...   \n",
              "Wealth Select Account                                 0.0   \n",
              "Withdrawal                                            0.0   \n",
              "home Loan                                             0.0   \n",
              "pradhan mantri Jeevan Jyoti Yojana                    0.0   \n",
              "pradhan mantri Suraksha BimaYojana                    0.0   \n",
              "\n",
              "Email                               hebex1005@abincol.com  \\\n",
              "Facilities                                                  \n",
              " Gas                                                  0.0   \n",
              " Investments                                          0.0   \n",
              " Mobile Recharge                                      0.0   \n",
              " PAY                                                  0.0   \n",
              " Select Frist Privilegs                               0.0   \n",
              "...                                                   ...   \n",
              "Wealth Select Account                                 0.0   \n",
              "Withdrawal                                            0.0   \n",
              "home Loan                                             3.5   \n",
              "pradhan mantri Jeevan Jyoti Yojana                    0.0   \n",
              "pradhan mantri Suraksha BimaYojana                    0.0   \n",
              "\n",
              "Email                               hebex1006@abincol.com  \\\n",
              "Facilities                                                  \n",
              " Gas                                                  0.0   \n",
              " Investments                                          0.0   \n",
              " Mobile Recharge                                      0.0   \n",
              " PAY                                                  0.0   \n",
              " Select Frist Privilegs                               0.0   \n",
              "...                                                   ...   \n",
              "Wealth Select Account                                 0.0   \n",
              "Withdrawal                                            0.0   \n",
              "home Loan                                             0.0   \n",
              "pradhan mantri Jeevan Jyoti Yojana                    0.0   \n",
              "pradhan mantri Suraksha BimaYojana                    0.0   \n",
              "\n",
              "Email                               hebex1007@abincol.com  \\\n",
              "Facilities                                                  \n",
              " Gas                                                  0.0   \n",
              " Investments                                          0.0   \n",
              " Mobile Recharge                                      0.0   \n",
              " PAY                                                  0.0   \n",
              " Select Frist Privilegs                               0.0   \n",
              "...                                                   ...   \n",
              "Wealth Select Account                                 0.0   \n",
              "Withdrawal                                            0.0   \n",
              "home Loan                                             0.0   \n",
              "pradhan mantri Jeevan Jyoti Yojana                    0.0   \n",
              "pradhan mantri Suraksha BimaYojana                    0.0   \n",
              "\n",
              "Email                               hebex1008@abincol.com  ...  \\\n",
              "Facilities                                                 ...   \n",
              " Gas                                                  0.0  ...   \n",
              " Investments                                          0.0  ...   \n",
              " Mobile Recharge                                      0.0  ...   \n",
              " PAY                                                  0.0  ...   \n",
              " Select Frist Privilegs                               0.0  ...   \n",
              "...                                                   ...  ...   \n",
              "Wealth Select Account                                 0.0  ...   \n",
              "Withdrawal                                            0.0  ...   \n",
              "home Loan                                             0.0  ...   \n",
              "pradhan mantri Jeevan Jyoti Yojana                    0.0  ...   \n",
              "pradhan mantri Suraksha BimaYojana                    0.0  ...   \n",
              "\n",
              "Email                               hebex992@abincol.com  \\\n",
              "Facilities                                                 \n",
              " Gas                                                 0.0   \n",
              " Investments                                         0.0   \n",
              " Mobile Recharge                                     0.0   \n",
              " PAY                                                 0.0   \n",
              " Select Frist Privilegs                              0.0   \n",
              "...                                                  ...   \n",
              "Wealth Select Account                                0.0   \n",
              "Withdrawal                                           0.0   \n",
              "home Loan                                            0.0   \n",
              "pradhan mantri Jeevan Jyoti Yojana                   0.0   \n",
              "pradhan mantri Suraksha BimaYojana                   0.0   \n",
              "\n",
              "Email                               hebex993@abincol.com  \\\n",
              "Facilities                                                 \n",
              " Gas                                                 0.0   \n",
              " Investments                                         0.0   \n",
              " Mobile Recharge                                     0.0   \n",
              " PAY                                                 0.0   \n",
              " Select Frist Privilegs                              0.0   \n",
              "...                                                  ...   \n",
              "Wealth Select Account                                0.0   \n",
              "Withdrawal                                           0.0   \n",
              "home Loan                                            0.0   \n",
              "pradhan mantri Jeevan Jyoti Yojana                   0.0   \n",
              "pradhan mantri Suraksha BimaYojana                   0.0   \n",
              "\n",
              "Email                               hebex994@abincol.com  \\\n",
              "Facilities                                                 \n",
              " Gas                                                 0.0   \n",
              " Investments                                         0.0   \n",
              " Mobile Recharge                                     0.0   \n",
              " PAY                                                 0.0   \n",
              " Select Frist Privilegs                              0.0   \n",
              "...                                                  ...   \n",
              "Wealth Select Account                                0.0   \n",
              "Withdrawal                                           0.0   \n",
              "home Loan                                            0.0   \n",
              "pradhan mantri Jeevan Jyoti Yojana                   0.0   \n",
              "pradhan mantri Suraksha BimaYojana                   0.0   \n",
              "\n",
              "Email                               hebex995@abincol.com  \\\n",
              "Facilities                                                 \n",
              " Gas                                                 0.0   \n",
              " Investments                                         0.0   \n",
              " Mobile Recharge                                     0.0   \n",
              " PAY                                                 0.0   \n",
              " Select Frist Privilegs                              0.0   \n",
              "...                                                  ...   \n",
              "Wealth Select Account                                0.0   \n",
              "Withdrawal                                           0.0   \n",
              "home Loan                                            0.0   \n",
              "pradhan mantri Jeevan Jyoti Yojana                   0.0   \n",
              "pradhan mantri Suraksha BimaYojana                   0.0   \n",
              "\n",
              "Email                               hebex996@abincol.com  \\\n",
              "Facilities                                                 \n",
              " Gas                                                 0.0   \n",
              " Investments                                         0.0   \n",
              " Mobile Recharge                                     0.0   \n",
              " PAY                                                 0.0   \n",
              " Select Frist Privilegs                              0.0   \n",
              "...                                                  ...   \n",
              "Wealth Select Account                                0.0   \n",
              "Withdrawal                                           0.0   \n",
              "home Loan                                            0.0   \n",
              "pradhan mantri Jeevan Jyoti Yojana                   0.0   \n",
              "pradhan mantri Suraksha BimaYojana                   0.0   \n",
              "\n",
              "Email                               hebex997@abincol.com  \\\n",
              "Facilities                                                 \n",
              " Gas                                                 0.0   \n",
              " Investments                                         0.0   \n",
              " Mobile Recharge                                     0.0   \n",
              " PAY                                                 0.0   \n",
              " Select Frist Privilegs                              0.0   \n",
              "...                                                  ...   \n",
              "Wealth Select Account                                0.0   \n",
              "Withdrawal                                           0.0   \n",
              "home Loan                                            0.0   \n",
              "pradhan mantri Jeevan Jyoti Yojana                   0.0   \n",
              "pradhan mantri Suraksha BimaYojana                   0.0   \n",
              "\n",
              "Email                               hebex998@abincol.com  \\\n",
              "Facilities                                                 \n",
              " Gas                                                 0.0   \n",
              " Investments                                         0.0   \n",
              " Mobile Recharge                                     0.0   \n",
              " PAY                                                 0.0   \n",
              " Select Frist Privilegs                              0.0   \n",
              "...                                                  ...   \n",
              "Wealth Select Account                                0.0   \n",
              "Withdrawal                                           0.0   \n",
              "home Loan                                            0.0   \n",
              "pradhan mantri Jeevan Jyoti Yojana                   0.0   \n",
              "pradhan mantri Suraksha BimaYojana                   0.0   \n",
              "\n",
              "Email                               hebex999@abincol.com  hebex99@abincol.com  \\\n",
              "Facilities                                                                      \n",
              " Gas                                                 0.0                  0.0   \n",
              " Investments                                         0.0                  0.0   \n",
              " Mobile Recharge                                     0.0                  0.0   \n",
              " PAY                                                 0.0                  0.0   \n",
              " Select Frist Privilegs                              0.0                  0.0   \n",
              "...                                                  ...                  ...   \n",
              "Wealth Select Account                                0.0                  0.0   \n",
              "Withdrawal                                           0.0                  0.0   \n",
              "home Loan                                            0.0                  0.0   \n",
              "pradhan mantri Jeevan Jyoti Yojana                   0.0                  0.0   \n",
              "pradhan mantri Suraksha BimaYojana                   0.0                  0.0   \n",
              "\n",
              "Email                               hebex9@abincol.com  \n",
              "Facilities                                              \n",
              " Gas                                               0.0  \n",
              " Investments                                       0.0  \n",
              " Mobile Recharge                                   0.0  \n",
              " PAY                                               0.0  \n",
              " Select Frist Privilegs                            0.0  \n",
              "...                                                ...  \n",
              "Wealth Select Account                              0.0  \n",
              "Withdrawal                                         0.0  \n",
              "home Loan                                          0.0  \n",
              "pradhan mantri Jeevan Jyoti Yojana                 0.0  \n",
              "pradhan mantri Suraksha BimaYojana                 0.0  \n",
              "\n",
              "[100 rows x 1249 columns]"
            ],
            "text/html": [
              "\n",
              "  <div id=\"df-cd1f9a11-37e2-4d57-a94c-ee052f8f9cf7\">\n",
              "    <div class=\"colab-df-container\">\n",
              "      <div>\n",
              "<style scoped>\n",
              "    .dataframe tbody tr th:only-of-type {\n",
              "        vertical-align: middle;\n",
              "    }\n",
              "\n",
              "    .dataframe tbody tr th {\n",
              "        vertical-align: top;\n",
              "    }\n",
              "\n",
              "    .dataframe thead th {\n",
              "        text-align: right;\n",
              "    }\n",
              "</style>\n",
              "<table border=\"1\" class=\"dataframe\">\n",
              "  <thead>\n",
              "    <tr style=\"text-align: right;\">\n",
              "      <th>Email</th>\n",
              "      <th>hebex0@abincol.com</th>\n",
              "      <th>hebex1000@abincol.com</th>\n",
              "      <th>hebex1001@abincol.com</th>\n",
              "      <th>hebex1002@abincol.com</th>\n",
              "      <th>hebex1003@abincol.com</th>\n",
              "      <th>hebex1004@abincol.com</th>\n",
              "      <th>hebex1005@abincol.com</th>\n",
              "      <th>hebex1006@abincol.com</th>\n",
              "      <th>hebex1007@abincol.com</th>\n",
              "      <th>hebex1008@abincol.com</th>\n",
              "      <th>...</th>\n",
              "      <th>hebex992@abincol.com</th>\n",
              "      <th>hebex993@abincol.com</th>\n",
              "      <th>hebex994@abincol.com</th>\n",
              "      <th>hebex995@abincol.com</th>\n",
              "      <th>hebex996@abincol.com</th>\n",
              "      <th>hebex997@abincol.com</th>\n",
              "      <th>hebex998@abincol.com</th>\n",
              "      <th>hebex999@abincol.com</th>\n",
              "      <th>hebex99@abincol.com</th>\n",
              "      <th>hebex9@abincol.com</th>\n",
              "    </tr>\n",
              "    <tr>\n",
              "      <th>Facilities</th>\n",
              "      <th></th>\n",
              "      <th></th>\n",
              "      <th></th>\n",
              "      <th></th>\n",
              "      <th></th>\n",
              "      <th></th>\n",
              "      <th></th>\n",
              "      <th></th>\n",
              "      <th></th>\n",
              "      <th></th>\n",
              "      <th></th>\n",
              "      <th></th>\n",
              "      <th></th>\n",
              "      <th></th>\n",
              "      <th></th>\n",
              "      <th></th>\n",
              "      <th></th>\n",
              "      <th></th>\n",
              "      <th></th>\n",
              "      <th></th>\n",
              "      <th></th>\n",
              "    </tr>\n",
              "  </thead>\n",
              "  <tbody>\n",
              "    <tr>\n",
              "      <th>Gas</th>\n",
              "      <td>0.0</td>\n",
              "      <td>0.0</td>\n",
              "      <td>0.0</td>\n",
              "      <td>0.0</td>\n",
              "      <td>0.0</td>\n",
              "      <td>0.0</td>\n",
              "      <td>0.0</td>\n",
              "      <td>0.0</td>\n",
              "      <td>0.0</td>\n",
              "      <td>0.0</td>\n",
              "      <td>...</td>\n",
              "      <td>0.0</td>\n",
              "      <td>0.0</td>\n",
              "      <td>0.0</td>\n",
              "      <td>0.0</td>\n",
              "      <td>0.0</td>\n",
              "      <td>0.0</td>\n",
              "      <td>0.0</td>\n",
              "      <td>0.0</td>\n",
              "      <td>0.0</td>\n",
              "      <td>0.0</td>\n",
              "    </tr>\n",
              "    <tr>\n",
              "      <th>Investments</th>\n",
              "      <td>0.0</td>\n",
              "      <td>0.0</td>\n",
              "      <td>0.0</td>\n",
              "      <td>0.0</td>\n",
              "      <td>0.0</td>\n",
              "      <td>0.0</td>\n",
              "      <td>0.0</td>\n",
              "      <td>0.0</td>\n",
              "      <td>0.0</td>\n",
              "      <td>0.0</td>\n",
              "      <td>...</td>\n",
              "      <td>0.0</td>\n",
              "      <td>0.0</td>\n",
              "      <td>0.0</td>\n",
              "      <td>0.0</td>\n",
              "      <td>0.0</td>\n",
              "      <td>0.0</td>\n",
              "      <td>0.0</td>\n",
              "      <td>0.0</td>\n",
              "      <td>0.0</td>\n",
              "      <td>0.0</td>\n",
              "    </tr>\n",
              "    <tr>\n",
              "      <th>Mobile Recharge</th>\n",
              "      <td>0.0</td>\n",
              "      <td>0.0</td>\n",
              "      <td>0.0</td>\n",
              "      <td>0.0</td>\n",
              "      <td>0.0</td>\n",
              "      <td>0.0</td>\n",
              "      <td>0.0</td>\n",
              "      <td>0.0</td>\n",
              "      <td>0.0</td>\n",
              "      <td>0.0</td>\n",
              "      <td>...</td>\n",
              "      <td>0.0</td>\n",
              "      <td>0.0</td>\n",
              "      <td>0.0</td>\n",
              "      <td>0.0</td>\n",
              "      <td>0.0</td>\n",
              "      <td>0.0</td>\n",
              "      <td>0.0</td>\n",
              "      <td>0.0</td>\n",
              "      <td>0.0</td>\n",
              "      <td>0.0</td>\n",
              "    </tr>\n",
              "    <tr>\n",
              "      <th>PAY</th>\n",
              "      <td>0.0</td>\n",
              "      <td>0.0</td>\n",
              "      <td>0.0</td>\n",
              "      <td>0.0</td>\n",
              "      <td>0.0</td>\n",
              "      <td>0.0</td>\n",
              "      <td>0.0</td>\n",
              "      <td>0.0</td>\n",
              "      <td>0.0</td>\n",
              "      <td>0.0</td>\n",
              "      <td>...</td>\n",
              "      <td>0.0</td>\n",
              "      <td>0.0</td>\n",
              "      <td>0.0</td>\n",
              "      <td>0.0</td>\n",
              "      <td>0.0</td>\n",
              "      <td>0.0</td>\n",
              "      <td>0.0</td>\n",
              "      <td>0.0</td>\n",
              "      <td>0.0</td>\n",
              "      <td>0.0</td>\n",
              "    </tr>\n",
              "    <tr>\n",
              "      <th>Select Frist Privilegs</th>\n",
              "      <td>0.0</td>\n",
              "      <td>0.0</td>\n",
              "      <td>0.0</td>\n",
              "      <td>0.0</td>\n",
              "      <td>0.0</td>\n",
              "      <td>0.0</td>\n",
              "      <td>0.0</td>\n",
              "      <td>0.0</td>\n",
              "      <td>0.0</td>\n",
              "      <td>0.0</td>\n",
              "      <td>...</td>\n",
              "      <td>0.0</td>\n",
              "      <td>0.0</td>\n",
              "      <td>0.0</td>\n",
              "      <td>0.0</td>\n",
              "      <td>0.0</td>\n",
              "      <td>0.0</td>\n",
              "      <td>0.0</td>\n",
              "      <td>0.0</td>\n",
              "      <td>0.0</td>\n",
              "      <td>0.0</td>\n",
              "    </tr>\n",
              "    <tr>\n",
              "      <th>...</th>\n",
              "      <td>...</td>\n",
              "      <td>...</td>\n",
              "      <td>...</td>\n",
              "      <td>...</td>\n",
              "      <td>...</td>\n",
              "      <td>...</td>\n",
              "      <td>...</td>\n",
              "      <td>...</td>\n",
              "      <td>...</td>\n",
              "      <td>...</td>\n",
              "      <td>...</td>\n",
              "      <td>...</td>\n",
              "      <td>...</td>\n",
              "      <td>...</td>\n",
              "      <td>...</td>\n",
              "      <td>...</td>\n",
              "      <td>...</td>\n",
              "      <td>...</td>\n",
              "      <td>...</td>\n",
              "      <td>...</td>\n",
              "      <td>...</td>\n",
              "    </tr>\n",
              "    <tr>\n",
              "      <th>Wealth Select Account</th>\n",
              "      <td>0.0</td>\n",
              "      <td>0.0</td>\n",
              "      <td>0.0</td>\n",
              "      <td>0.0</td>\n",
              "      <td>0.0</td>\n",
              "      <td>0.0</td>\n",
              "      <td>0.0</td>\n",
              "      <td>0.0</td>\n",
              "      <td>0.0</td>\n",
              "      <td>0.0</td>\n",
              "      <td>...</td>\n",
              "      <td>0.0</td>\n",
              "      <td>0.0</td>\n",
              "      <td>0.0</td>\n",
              "      <td>0.0</td>\n",
              "      <td>0.0</td>\n",
              "      <td>0.0</td>\n",
              "      <td>0.0</td>\n",
              "      <td>0.0</td>\n",
              "      <td>0.0</td>\n",
              "      <td>0.0</td>\n",
              "    </tr>\n",
              "    <tr>\n",
              "      <th>Withdrawal</th>\n",
              "      <td>0.0</td>\n",
              "      <td>0.0</td>\n",
              "      <td>0.0</td>\n",
              "      <td>0.0</td>\n",
              "      <td>3.0</td>\n",
              "      <td>0.0</td>\n",
              "      <td>0.0</td>\n",
              "      <td>0.0</td>\n",
              "      <td>0.0</td>\n",
              "      <td>0.0</td>\n",
              "      <td>...</td>\n",
              "      <td>0.0</td>\n",
              "      <td>0.0</td>\n",
              "      <td>0.0</td>\n",
              "      <td>0.0</td>\n",
              "      <td>0.0</td>\n",
              "      <td>0.0</td>\n",
              "      <td>0.0</td>\n",
              "      <td>0.0</td>\n",
              "      <td>0.0</td>\n",
              "      <td>0.0</td>\n",
              "    </tr>\n",
              "    <tr>\n",
              "      <th>home Loan</th>\n",
              "      <td>0.0</td>\n",
              "      <td>0.0</td>\n",
              "      <td>0.0</td>\n",
              "      <td>0.0</td>\n",
              "      <td>0.0</td>\n",
              "      <td>0.0</td>\n",
              "      <td>3.5</td>\n",
              "      <td>0.0</td>\n",
              "      <td>0.0</td>\n",
              "      <td>0.0</td>\n",
              "      <td>...</td>\n",
              "      <td>0.0</td>\n",
              "      <td>0.0</td>\n",
              "      <td>0.0</td>\n",
              "      <td>0.0</td>\n",
              "      <td>0.0</td>\n",
              "      <td>0.0</td>\n",
              "      <td>0.0</td>\n",
              "      <td>0.0</td>\n",
              "      <td>0.0</td>\n",
              "      <td>0.0</td>\n",
              "    </tr>\n",
              "    <tr>\n",
              "      <th>pradhan mantri Jeevan Jyoti Yojana</th>\n",
              "      <td>0.0</td>\n",
              "      <td>0.0</td>\n",
              "      <td>0.0</td>\n",
              "      <td>0.0</td>\n",
              "      <td>0.0</td>\n",
              "      <td>0.0</td>\n",
              "      <td>0.0</td>\n",
              "      <td>0.0</td>\n",
              "      <td>0.0</td>\n",
              "      <td>0.0</td>\n",
              "      <td>...</td>\n",
              "      <td>0.0</td>\n",
              "      <td>0.0</td>\n",
              "      <td>0.0</td>\n",
              "      <td>0.0</td>\n",
              "      <td>0.0</td>\n",
              "      <td>0.0</td>\n",
              "      <td>0.0</td>\n",
              "      <td>0.0</td>\n",
              "      <td>0.0</td>\n",
              "      <td>0.0</td>\n",
              "    </tr>\n",
              "    <tr>\n",
              "      <th>pradhan mantri Suraksha BimaYojana</th>\n",
              "      <td>0.0</td>\n",
              "      <td>0.0</td>\n",
              "      <td>0.0</td>\n",
              "      <td>0.0</td>\n",
              "      <td>0.0</td>\n",
              "      <td>0.0</td>\n",
              "      <td>0.0</td>\n",
              "      <td>0.0</td>\n",
              "      <td>0.0</td>\n",
              "      <td>0.0</td>\n",
              "      <td>...</td>\n",
              "      <td>0.0</td>\n",
              "      <td>0.0</td>\n",
              "      <td>0.0</td>\n",
              "      <td>0.0</td>\n",
              "      <td>0.0</td>\n",
              "      <td>0.0</td>\n",
              "      <td>0.0</td>\n",
              "      <td>0.0</td>\n",
              "      <td>0.0</td>\n",
              "      <td>0.0</td>\n",
              "    </tr>\n",
              "  </tbody>\n",
              "</table>\n",
              "<p>100 rows × 1249 columns</p>\n",
              "</div>\n",
              "      <button class=\"colab-df-convert\" onclick=\"convertToInteractive('df-cd1f9a11-37e2-4d57-a94c-ee052f8f9cf7')\"\n",
              "              title=\"Convert this dataframe to an interactive table.\"\n",
              "              style=\"display:none;\">\n",
              "        \n",
              "  <svg xmlns=\"http://www.w3.org/2000/svg\" height=\"24px\"viewBox=\"0 0 24 24\"\n",
              "       width=\"24px\">\n",
              "    <path d=\"M0 0h24v24H0V0z\" fill=\"none\"/>\n",
              "    <path d=\"M18.56 5.44l.94 2.06.94-2.06 2.06-.94-2.06-.94-.94-2.06-.94 2.06-2.06.94zm-11 1L8.5 8.5l.94-2.06 2.06-.94-2.06-.94L8.5 2.5l-.94 2.06-2.06.94zm10 10l.94 2.06.94-2.06 2.06-.94-2.06-.94-.94-2.06-.94 2.06-2.06.94z\"/><path d=\"M17.41 7.96l-1.37-1.37c-.4-.4-.92-.59-1.43-.59-.52 0-1.04.2-1.43.59L10.3 9.45l-7.72 7.72c-.78.78-.78 2.05 0 2.83L4 21.41c.39.39.9.59 1.41.59.51 0 1.02-.2 1.41-.59l7.78-7.78 2.81-2.81c.8-.78.8-2.07 0-2.86zM5.41 20L4 18.59l7.72-7.72 1.47 1.35L5.41 20z\"/>\n",
              "  </svg>\n",
              "      </button>\n",
              "      \n",
              "  <style>\n",
              "    .colab-df-container {\n",
              "      display:flex;\n",
              "      flex-wrap:wrap;\n",
              "      gap: 12px;\n",
              "    }\n",
              "\n",
              "    .colab-df-convert {\n",
              "      background-color: #E8F0FE;\n",
              "      border: none;\n",
              "      border-radius: 50%;\n",
              "      cursor: pointer;\n",
              "      display: none;\n",
              "      fill: #1967D2;\n",
              "      height: 32px;\n",
              "      padding: 0 0 0 0;\n",
              "      width: 32px;\n",
              "    }\n",
              "\n",
              "    .colab-df-convert:hover {\n",
              "      background-color: #E2EBFA;\n",
              "      box-shadow: 0px 1px 2px rgba(60, 64, 67, 0.3), 0px 1px 3px 1px rgba(60, 64, 67, 0.15);\n",
              "      fill: #174EA6;\n",
              "    }\n",
              "\n",
              "    [theme=dark] .colab-df-convert {\n",
              "      background-color: #3B4455;\n",
              "      fill: #D2E3FC;\n",
              "    }\n",
              "\n",
              "    [theme=dark] .colab-df-convert:hover {\n",
              "      background-color: #434B5C;\n",
              "      box-shadow: 0px 1px 3px 1px rgba(0, 0, 0, 0.15);\n",
              "      filter: drop-shadow(0px 1px 2px rgba(0, 0, 0, 0.3));\n",
              "      fill: #FFFFFF;\n",
              "    }\n",
              "  </style>\n",
              "\n",
              "      <script>\n",
              "        const buttonEl =\n",
              "          document.querySelector('#df-cd1f9a11-37e2-4d57-a94c-ee052f8f9cf7 button.colab-df-convert');\n",
              "        buttonEl.style.display =\n",
              "          google.colab.kernel.accessAllowed ? 'block' : 'none';\n",
              "\n",
              "        async function convertToInteractive(key) {\n",
              "          const element = document.querySelector('#df-cd1f9a11-37e2-4d57-a94c-ee052f8f9cf7');\n",
              "          const dataTable =\n",
              "            await google.colab.kernel.invokeFunction('convertToInteractive',\n",
              "                                                     [key], {});\n",
              "          if (!dataTable) return;\n",
              "\n",
              "          const docLinkHtml = 'Like what you see? Visit the ' +\n",
              "            '<a target=\"_blank\" href=https://colab.research.google.com/notebooks/data_table.ipynb>data table notebook</a>'\n",
              "            + ' to learn more about interactive tables.';\n",
              "          element.innerHTML = '';\n",
              "          dataTable['output_type'] = 'display_data';\n",
              "          await google.colab.output.renderOutput(dataTable, element);\n",
              "          const docLink = document.createElement('div');\n",
              "          docLink.innerHTML = docLinkHtml;\n",
              "          element.appendChild(docLink);\n",
              "        }\n",
              "      </script>\n",
              "    </div>\n",
              "  </div>\n",
              "  "
            ]
          },
          "metadata": {},
          "execution_count": 31
        }
      ]
    },
    {
      "cell_type": "code",
      "source": [
        "from scipy.sparse import csr_matrix\n",
        "\n",
        "df_matrix = csr_matrix(df.values)\n",
        "\n",
        "from sklearn.neighbors import NearestNeighbors\n",
        "\n",
        "\n",
        "model_knn = NearestNeighbors(metric = 'cosine', algorithm = 'brute')\n",
        "model_knn.fit(df_matrix)"
      ],
      "metadata": {
        "colab": {
          "base_uri": "https://localhost:8080/"
        },
        "id": "hwZLQltP5O5U",
        "outputId": "320f4d7d-c7d9-4297-e239-c8f57ab07783"
      },
      "execution_count": 32,
      "outputs": [
        {
          "output_type": "execute_result",
          "data": {
            "text/plain": [
              "NearestNeighbors(algorithm='brute', metric='cosine')"
            ]
          },
          "metadata": {},
          "execution_count": 32
        }
      ]
    },
    {
      "cell_type": "code",
      "source": [
        "df_matrix.shape"
      ],
      "metadata": {
        "colab": {
          "base_uri": "https://localhost:8080/"
        },
        "id": "ojvN7JrU5guL",
        "outputId": "272becda-0123-4a00-e2c1-c3ac56a7bdc6"
      },
      "execution_count": 33,
      "outputs": [
        {
          "output_type": "execute_result",
          "data": {
            "text/plain": [
              "(100, 1249)"
            ]
          },
          "metadata": {},
          "execution_count": 33
        }
      ]
    },
    {
      "cell_type": "code",
      "source": [
        "index = np.random.choice(df.shape[0])\n",
        "print(index)\n",
        "distances, indices = model_knn.kneighbors(df.iloc[index,:].values.reshape(1, -1), n_neighbors = 6)"
      ],
      "metadata": {
        "colab": {
          "base_uri": "https://localhost:8080/"
        },
        "id": "QPixz2Kq5yXB",
        "outputId": "d36311a4-666e-45d9-b7a4-59a2ae698750"
      },
      "execution_count": 58,
      "outputs": [
        {
          "output_type": "stream",
          "name": "stdout",
          "text": [
            "60\n"
          ]
        }
      ]
    },
    {
      "cell_type": "code",
      "source": [
        "distances"
      ],
      "metadata": {
        "colab": {
          "base_uri": "https://localhost:8080/"
        },
        "id": "elwXlYDk6f08",
        "outputId": "a12157f2-c046-4f74-df87-cd26fd55f8c1"
      },
      "execution_count": 55,
      "outputs": [
        {
          "output_type": "execute_result",
          "data": {
            "text/plain": [
              "array([[0., 1., 1., 1., 1., 1.]])"
            ]
          },
          "metadata": {},
          "execution_count": 55
        }
      ]
    },
    {
      "cell_type": "code",
      "source": [
        "indices"
      ],
      "metadata": {
        "colab": {
          "base_uri": "https://localhost:8080/"
        },
        "id": "-vBOKCAN6jAQ",
        "outputId": "896eee9a-683a-4dac-b9ee-6749bd93cf55"
      },
      "execution_count": 56,
      "outputs": [
        {
          "output_type": "execute_result",
          "data": {
            "text/plain": [
              "array([[ 1, 67, 64, 65, 66, 63]])"
            ]
          },
          "metadata": {},
          "execution_count": 56
        }
      ]
    },
    {
      "cell_type": "code",
      "source": [
        "indices.flatten()[0]"
      ],
      "metadata": {
        "colab": {
          "base_uri": "https://localhost:8080/"
        },
        "id": "_YHY08MY66Ic",
        "outputId": "330aef42-3a29-49f4-8515-a08baa649997"
      },
      "execution_count": 40,
      "outputs": [
        {
          "output_type": "execute_result",
          "data": {
            "text/plain": [
              "55"
            ]
          },
          "metadata": {},
          "execution_count": 40
        }
      ]
    },
    {
      "cell_type": "code",
      "source": [
        "for i in range(0, len(indices.flatten())):\n",
        "    if i == 0:\n",
        "        print('Recommendations for {0}:\\n'.format(df.index[index]))\n",
        "    else:\n",
        "        print(f\"product: {df.index[indices.flatten()[i]]}, distance: {distances.flatten()[i]}\")"
      ],
      "metadata": {
        "colab": {
          "base_uri": "https://localhost:8080/"
        },
        "id": "K34aUB936aG1",
        "outputId": "399e31e7-5fe4-494b-dc2d-fb3531fe40ca"
      },
      "execution_count": 59,
      "outputs": [
        {
          "output_type": "stream",
          "name": "stdout",
          "text": [
            "Recommendations for Manchester United:\n",
            "\n",
            "product: Pay Credit Cards Bill, distance: 1.0\n",
            "product: Prepaid Cards, distance: 1.0\n",
            "product: Online and mobile banking, distance: 1.0\n",
            "product: Online-only banking, distance: 1.0\n",
            "product: NEFT, distance: 1.0\n"
          ]
        }
      ]
    },
    {
      "cell_type": "code",
      "source": [
        "def recommendation(distances, indices, index):\n",
        "  pro = None\n",
        "  rec = []\n",
        "  for i in range(0, len(indices.flatten())):\n",
        "    if i == 0:\n",
        "      pro = df.index[index]\n",
        "    else:\n",
        "      rec.append(df.index[indices.flatten()[i]])\n",
        "  return pro, rec  "
      ],
      "metadata": {
        "id": "DShxkX6V71MB"
      },
      "execution_count": 61,
      "outputs": []
    },
    {
      "cell_type": "code",
      "source": [
        "pro_in = 0\n",
        "distances, indices = model_knn.kneighbors(df.iloc[pro_in,:].values.reshape(1, -1), n_neighbors = 6)\n",
        "product, rec = recommendation(distances, indices, pro_in)\n",
        "print(f\"your current prodcut: {product} \")\n",
        "for i in rec:\n",
        "  print(f\"{i}\")"
      ],
      "metadata": {
        "colab": {
          "base_uri": "https://localhost:8080/"
        },
        "id": "gM7r8c4s_DGW",
        "outputId": "b71703b5-8cf6-415b-94f1-51c41cef56d0"
      },
      "execution_count": 68,
      "outputs": [
        {
          "output_type": "stream",
          "name": "stdout",
          "text": [
            "your current prodcut:  Gas \n",
            "Prepaid Cards\n",
            "Online and mobile banking\n",
            "Online-only banking\n",
            "Pay Credit Cards Bill\n",
            "NEFT\n"
          ]
        }
      ]
    },
    {
      "cell_type": "code",
      "source": [
        "indices.flatten()"
      ],
      "metadata": {
        "colab": {
          "base_uri": "https://localhost:8080/"
        },
        "id": "wnMZUTMs_tio",
        "outputId": "dc1128f7-a765-4098-b480-a6eb23347ce9"
      },
      "execution_count": 69,
      "outputs": [
        {
          "output_type": "execute_result",
          "data": {
            "text/plain": [
              "array([ 0, 70, 66, 67, 68, 64])"
            ]
          },
          "metadata": {},
          "execution_count": 69
        }
      ]
    }
  ]
}